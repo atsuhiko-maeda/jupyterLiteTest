{
 "cells": [
  {
   "cell_type": "markdown",
   "metadata": {},
   "source": [
    "## Pythonの演算について\n",
    "\n",
    "Pythonは多くの演算子をサポートしており、数値やデータを操作するために使用されます。以下にPythonの主要な演算子とその使い方を説明します。\n"
   ]
  },
  {
   "cell_type": "markdown",
   "metadata": {},
   "source": [
    "### 算術演算子\n",
    "- 加算 (+): 2つの数値を足し合わせます。\n",
    "- 減算 (-): 2つの数値を引き算します。\n",
    "- 乗算 (*): 2つの数値を掛け合わせます。\n",
    "- 除算 (/): 1つの数値をもう一つの数値で割ります。\n",
    "- 余り (%): 1つの数値をもう一つの数値で割った際の余りを求めます。\n",
    "- 整数除算 (//): 1つの数値をもう一つの数値で割った際の整数部分を求めます。\n",
    "- べき乗 (**): 数値を指数として累乗します。\n"
   ]
  },
  {
   "cell_type": "code",
   "metadata": {},
   "source": [
    "x = 10\n",
    "y = 3\n",
    "addition = x + y\n",
    "subtraction = x - y\n",
    "multiplication = x * y\n",
    "division = x / y\n",
    "remainder = x % y\n",
    "integer_division = x // y\n",
    "exponentiation = x ** y\n"
   ]
  },
  {
   "cell_type": "markdown",
   "metadata": {},
   "source": [
    "### 比較演算子\n",
    "- 等しい (==): 2つの値が等しいかどうかを判定します。\n",
    "- 等しくない (!=): 2つの値が等しくないかどうかを判定します。\n",
    "- 大なり (>): 1つの値がもう一つの値より大きいか小さいかを判定します。\n",
    "- 大なりイコール (>=): 1つの値がもう一つの値以上または以下かを判定します。\n"
   ]
  },
  {
   "cell_type": "code",
   "metadata": {},
   "source": [
    "a = 5\n",
    "b = 10\n",
    "equal = (a == b)\n",
    "not_equal = (a != b)\n",
    "greater_than = (a > b)\n",
    "greater_than_or_equal = (a >= b)\n"
   ]
  },
  {
   "cell_type": "markdown",
   "metadata": {},
   "source": [
    "### 論理演算子\n",
    "- 論理積 (and): 2つの条件が両方とも真の場合、全体の条件が真となります。\n",
    "- 論理和 (or): 2つの条件のうち、どちらかが真の場合、全体の条件が真となります。\n",
    "- 否定 (not): 条件を反転させます。\n"
   ]
  },
  {
   "cell_type": "code",
   "metadata": {},
   "source": [
    "x = True\n",
    "y = False\n",
    "result_and = x and y\n",
    "result_or = x or y\n",
    "result_not = not x\n"
   ]
  }
 ],
 "metadata": {},
 "nbformat": 4,
 "nbformat_minor": 4
}