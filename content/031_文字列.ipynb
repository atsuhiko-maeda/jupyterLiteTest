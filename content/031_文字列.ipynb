{
 "cells": [
  {
   "cell_type": "markdown",
   "metadata": {},
   "source": [
    "# Pythonの文字列について\n",
    "\n",
    "Pythonの文字列（string）について説明します。文字列は、テキストデータを表現するためのデータ型で、Pythonでは非常に重要です。文字列はシングルクォート (`'`) またはダブルクォート (`\"`) で囲むことで作成できます。\n"
   ]
  },
  {
   "cell_type": "markdown",
   "metadata": {},
   "source": [
    "## 1. 文字列の作成\n",
    "\n",
    "文字列はシングルクォートまたはダブルクォートで囲むことで作成できます。例えば：\n",
    "\n",
    "```python\n",
    "single_quoted = 'シングルクォートで囲まれた文字列'\n",
    "double_quoted = \"ダブルクォートで囲まれた文字列\"\n",
    "```\n",
    "\n",
    "どちらの方法でも同じ文字列が作成されます。\n"
   ]
  },
  {
   "cell_type": "markdown",
   "metadata": {},
   "source": [
    "## 2. エスケープ文字\n",
    "\n",
    "文字列内で特殊な文字を表現するためにエスケープ文字を使用できます。例えば、改行を表現するには `\\n`、タブを表現するには `\\t` を使用します。\n",
    "\n",
    "```python\n",
    "escaped_string = \"改行は\\nこう書きます\"\n",
    "```\n"
   ]
  },
  {
   "cell_type": "markdown",
   "metadata": {},
   "source": [
    "## 3. 文字列の連結\n",
    "\n",
    "文字列同士を `+` 演算子を使って連結できます。\n",
    "\n",
    "```python\n",
    "first_name = \"John\"\n",
    "last_name = \"Doe\"\n",
    "full_name = first_name + \" \" + last_name\n",
    "```\n",
    "\n",
    "`full_name` には \"John Doe\" という文字列が格納されます。\n"
   ]
  },
  {
   "cell_type": "markdown",
   "metadata": {},
   "source": [
    "## 4. 文字列の繰り返し\n",
    "\n",
    "文字列を `*` 演算子を使って繰り返すことができます。\n",
    "\n",
    "```python\n",
    "repeated_string = \"abc\" * 3\n",
    "```\n",
    "\n",
    "`repeated_string` には \"abcabcabc\" という文字列が格納されます。\n"
   ]
  },
  {
   "cell_type": "markdown",
   "metadata": {},
   "source": [
    "## 5. 文字列の長さ\n",
    "\n",
    "文字列の長さ（文字数）を取得するには、`len()` 関数を使用します。\n",
    "\n",
    "```python\n",
    "my_string = \"Hello, World!\"\n",
    "length = len(my_string)  # lengthには13が格納される\n",
    "```\n"
   ]
  },
  {
   "cell_type": "markdown",
   "metadata": {},
   "source": [
    "## 6. 文字列のインデクシングとスライシング\n",
    "\n",
    "文字列内の特定の文字にアクセスするために、インデックスを使用します。Pythonのインデックスは0から始まります。また、スライスを使用して部分文字列を取得することもできます。\n",
    "\n",
    "```python\n",
    "my_string = \"Python\"\n",
    "first_char = my_string[0]  # first_charには \"P\" が格納される\n",
    "substring = my_string[2:5]  # substringには \"tho\" が格納される\n",
    "```\n"
   ]
  },
  {
   "cell_type": "markdown",
   "metadata": {},
   "source": [
    "## 7. 文字列のメソッド\n",
    "\n",
    "文字列は多くの便利なメソッドを持っており、文字列の操作や変換が容易です。例えば、`upper()` メソッドを使って文字列を大文字に変換することができます。\n",
    "\n",
    "```python\n",
    "original_string = \"Hello, World!\"\n",
    "upper_string = original_string.upper()  # upper_stringには \"HELLO, WORLD!\" が格納される\n",
    "```\n"
   ]
  },
  {
   "cell_type": "markdown",
   "metadata": {},
   "source": [
    "## 8. 文字列のフォーマット\n",
    "\n",
    "文字列内に変数の値を埋め込むために、文字列のフォーマット方法があります。古典的な方法として `%` 演算子を使用する方法や、新しい方法として `f-strings`（フォーマット文字列リテラル）を使用する方法があります。\n",
    "\n",
    "```python\n",
    "name = \"Alice\"\n",
    "age = 30\n",
    "formatted_string = \"名前：%s、年齢：%d歳\" % (name, age)\n",
    "# または\n",
    "formatted_string = f\"名前：{name}、年齢：{age}歳\"\n",
    "```\n"
   ]
