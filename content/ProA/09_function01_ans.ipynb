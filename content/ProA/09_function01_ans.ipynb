{
  "cells": [
    {
      "cell_type": "markdown",
      "metadata": {},
      "source": [
        "### Q9.1-1"
      ]
    },
    {
      "cell_type": "code",
      "execution_count": 5,
      "metadata": {},
      "outputs": [
        {
          "name": "stdout",
          "output_type": "stream",
          "text": [
            "30\n"
          ]
        }
      ],
      "source": [
        "def multiply(a, b):\n",
        "    m = a*b\n",
        "    return m\n",
        "\n",
        "result = multiply(10,3)\n",
        "print(result)"
      ]
    },
    {
      "cell_type": "markdown",
      "metadata": {},
      "source": [
        "### Q9.1-2"
      ]
    },
    {
      "cell_type": "code",
      "execution_count": 6,
      "metadata": {},
      "outputs": [
        {
          "name": "stdout",
          "output_type": "stream",
          "text": [
            "6\n",
            "9\n"
          ]
        }
      ],
      "source": [
        "def calc_sum(a, b, c):\n",
        "    s = a+b+c\n",
        "    return s\n",
        "\n",
        "A, B, C, D=1, 2, 3, 4\n",
        "result = calc_sum(A,B,C)\n",
        "print(result)\n",
        "result = calc_sum(B,C,D)\n",
        "print(result)"
      ]
    },
    {
      "cell_type": "markdown",
      "metadata": {},
      "source": [
        "### Q9.1-3\n",
        "<u>3つの引数</u>を入力でき，それらの<u>平均値を戻り値</u>として返す関数を定義し，その関数に<u>定数や変数を引数として渡す実行例を3つ</u>書いてください．"
      ]
    },
    {
      "cell_type": "code",
      "execution_count": 8,
      "metadata": {},
      "outputs": [
        {
          "name": "stdout",
          "output_type": "stream",
          "text": [
            "2.0\n",
            "3.0\n"
          ]
        }
      ],
      "source": [
        "def avg(a,b,c):\n",
        "    s = a+b+c\n",
        "    return s/3\n",
        "\n",
        "print(avg(1,2,3))\n",
        "x=3\n",
        "print(avg(x,x,x))    "
      ]
    },
    {
      "cell_type": "markdown",
      "metadata": {},
      "source": [
        "### Q9.1-4"
      ]
    },
    {
      "cell_type": "code",
      "execution_count": 10,
      "metadata": {},
      "outputs": [
        {
          "name": "stdout",
          "output_type": "stream",
          "text": [
            "15000\n",
            "14660.0\n",
            "29320.0\n"
          ]
        }
      ],
      "source": [
        "def dollar2yen(d1, d):\n",
        "    return d*d1\n",
        "\n",
        "print(dollar2yen(150,100))\n",
        "x=146.6\n",
        "print(dollar2yen(x,100))\n",
        "print(dollar2yen(x,200))"
      ]
    },
    {
      "cell_type": "markdown",
      "metadata": {},
      "source": [
        "### Q9.1-5"
      ]
    },
    {
      "cell_type": "code",
      "execution_count": 11,
      "metadata": {},
      "outputs": [
        {
          "name": "stdout",
          "output_type": "stream",
          "text": [
            "2834.95\n"
          ]
        }
      ],
      "source": [
        "def oz2gram(oz):\n",
        "    return 28.3495*oz\n",
        "\n",
        "print(oz2gram(100))"
      ]
    },
    {
      "cell_type": "markdown",
      "metadata": {},
      "source": [
        "---"
      ]
    },
    {
      "cell_type": "markdown",
      "metadata": {},
      "source": [
        "### Q9.2-1"
      ]
    },
    {
      "cell_type": "code",
      "execution_count": 14,
      "metadata": {},
      "outputs": [
        {
          "name": "stdout",
          "output_type": "stream",
          "text": [
            "10は偶数です．\n",
            "3は奇数です．\n"
          ]
        }
      ],
      "source": [
        "def check_num(num):\n",
        "    if num%2==0:\n",
        "        return \"偶数\"\n",
        "    else:\n",
        "        return \"奇数\"\n",
        "    \n",
        "x=10\n",
        "print(f\"{x}は{check_num(x)}です．\")\n",
        "y=3\n",
        "print(f\"{y}は{check_num(y)}です．\")"
      ]
    },
    {
      "cell_type": "markdown",
      "metadata": {},
      "source": [
        "### Q9.3-1"
      ]
    },
    {
      "cell_type": "code",
      "execution_count": 17,
      "metadata": {},
      "outputs": [
        {
          "name": "stdout",
          "output_type": "stream",
          "text": [
            "こんにちは，太郎さん\n",
            "こんにちは，次郎さん\n",
            "こんにちは，三郎さん\n"
          ]
        }
      ],
      "source": [
        "def hello(name):\n",
        "    print(f\"こんにちは，{name}さん\")\n",
        "    \n",
        "hello(\"太郎\")\n",
        "hello(\"次郎\")\n",
        "hello(\"三郎\")"
      ]
    },
    {
      "cell_type": "markdown",
      "metadata": {},
      "source": [
        "### Q9.3-2"
      ]
    },
    {
      "cell_type": "code",
      "execution_count": 18,
      "metadata": {},
      "outputs": [
        {
          "name": "stdout",
          "output_type": "stream",
          "text": [
            "1ドル150円のとき，50ドルは7500円です\n",
            "1ドル146円のとき，100ドルは14600円です\n"
          ]
        }
      ],
      "source": [
        "def func(rate, d):\n",
        "    print(f\"1ドル{rate}円のとき，{d}ドルは{rate*d}円です\")\n",
        "    \n",
        "func(150,50)\n",
        "func(146, 100)"
      ]
    },
    {
      "cell_type": "markdown",
      "metadata": {},
      "source": [
        "### Q9.3-3"
      ]
    },
    {
      "cell_type": "code",
      "execution_count": 20,
      "metadata": {},
      "outputs": [
        {
          "name": "stdout",
          "output_type": "stream",
          "text": [
            "縦10cm, 横10cmの長方形の面積は100平方cmです\n",
            "縦2cm, 横3cmの長方形の面積は6平方cmです\n"
          ]
        }
      ],
      "source": [
        "def rect_area(v, h):\n",
        "    print(f\"縦{v}cm, 横{h}cmの長方形の面積は{v*h}平方cmです\")\n",
        "    \n",
        "rect_area(10,10)\n",
        "rect_area(2,3)"
      ]
    },
    {
      "cell_type": "markdown",
      "metadata": {},
      "source": [
        "---"
      ]
    },
    {
      "cell_type": "markdown",
      "metadata": {},
      "source": [
        "### Q9.4-1"
      ]
    },
    {
      "cell_type": "markdown",
      "metadata": {},
      "source": [
        "### Q9.5-1"
      ]
    },
    {
      "cell_type": "markdown",
      "metadata": {},
      "source": [
        "### Q9.5-2"
      ]
    },
    {
      "cell_type": "markdown",
      "metadata": {},
      "source": [
        "---"
      ]
    },
    {
      "cell_type": "markdown",
      "metadata": {},
      "source": [
        "### Q9.6-1"
      ]
    },
    {
      "cell_type": "markdown",
      "metadata": {},
      "source": [
        "### Q9.7-1"
      ]
    },
    {
      "cell_type": "markdown",
      "metadata": {},
      "source": [
        "### Q9.7-2\n"
      ]
    }
  ],
  "metadata": {
    "kernelspec": {
      "display_name": "Python 3",
      "language": "python",
      "name": "python3"
    },
    "language_info": {
      "codemirror_mode": {
        "name": "ipython",
        "version": 3
      },
      "file_extension": ".py",
      "mimetype": "text/x-python",
      "name": "python",
      "nbconvert_exporter": "python",
      "pygments_lexer": "ipython3",
      "version": "3.9.7"
    }
  },
  "nbformat": 4,
  "nbformat_minor": 4
}
