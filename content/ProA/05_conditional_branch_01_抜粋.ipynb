{
 "cells": [
  {
   "cell_type": "markdown",
   "metadata": {},
   "source": [
    "## 5.7 練習問題(Q5.7)\n",
    "- Q5.7-1からQ5.7-5が「必須課題」、Q5.7-6は「ボーナス課題」です。\n",
    "\n",
    "### Q5.7-1\n",
    "「変数`x`が10より大きい場合にメッセージを表示するコード」を参考にして、input関数を使い、キーボード（端末）から入力された整数が5以下である場合に「入力された整数は5以下です」というメッセージを表示するプログラムを、すでに作成されている1行目を踏まえて作りなさい。"
   ]
  },
  {
   "cell_type": "code",
   "execution_count": 26,
   "metadata": {},
   "outputs": [
    {
     "name": "stdout",
     "output_type": "stream",
     "text": [
      "入力された整数は5以下です\n"
     ]
    }
   ],
   "source": [
    "x = int(input(\"整数を入力してください：\"))\n",
    "if x <= 5:\n",
    "    print(\"入力された整数は5以下です\")"
   ]
  },
  {
   "cell_type": "markdown",
   "metadata": {},
   "source": [
    "### Q5.7-2\n",
    "「「A」が右辺の文字列s（KAIT）に含まれているかどうかを調べるコード」を参考にして、input関数を使い、キーボード（端末）から入力された文字列の中に文字「a」が入っている場合に「文字aは入力された文字列に含まれています」というメッセージを表示するプログラムを、すでに作成されている1行目を踏まえて作りなさい。"
   ]
  },
  {
   "cell_type": "code",
   "execution_count": null,
   "metadata": {},
   "outputs": [],
   "source": []
  },
  {
   "cell_type": "markdown",
   "metadata": {},
   "source": [
    "### Q5.7-3\n",
    "練習問題Q5.7-1のプログラムを改造して、新たに`else`文を使い、キーボード（端末）から入力された整数が5以下である場合に「入力された整数は5以下です」、キーボード（端末）から入力された整数が5より大きい場合は、「入力された整数は5より大きいです」と表示されるプログラムを、以下の各行をアンコメント（「#」記号を外すこと）して並び替え、適切にインデントを入れて作りなさい。"
   ]
  },
  {
   "cell_type": "code",
   "execution_count": null,
   "metadata": {},
   "outputs": [],
   "source": []
  },
  {
   "cell_type": "markdown",
   "metadata": {},
   "source": [
    "### Q5.7-4\n",
    "練習問題Q5.7-1のプログラムを改造して、論理演算子`and`を使い、キーボード（端末）から入力された整数が10以下で、かつ偶数（2で割って余りが0）である場合に「入力された整数は10以下の偶数です」と表示されるプログラムを、すでに作成されている1行目を踏まえて作りなさい。"
   ]
  },
  {
   "cell_type": "code",
   "execution_count": null,
   "metadata": {},
   "outputs": [],
   "source": []
  },
  {
   "cell_type": "markdown",
   "metadata": {},
   "source": [
    "### Q5.7-5\n",
    "練習問題Q5.7-2のプログラムを改造して、論理演算子`or`を使い、キーボード（端末）から入力された文字列の中に文字「a」または「b」が入っている場合に「文字aまたはbは入力された文字列に含まれています」というメッセージを表示するプログラムを、すでに作成されている1行目を踏まえて作りなさい。"
   ]
  },
  {
   "cell_type": "code",
   "execution_count": null,
   "metadata": {},
   "outputs": [],
   "source": []
  },
  {
   "cell_type": "markdown",
   "metadata": {},
   "source": [
    "### Q5.7-6\n",
    "練習問題Q5.7-1のプログラムを改造して、論理演算子`and`を使う方法と、比較演算子を連結する方法の二通りで、キーボード（端末）から入力された整数が、1以上10未満である場合に、「入力された整数は1以上10未満です」と表示されるプログラムを、すでに作成されている1行目を踏まえて作りなさい。<br>\n",
    "まず、論理演算子`and`を使う方法で、以下にプログラムを作りなさい。"
   ]
  },
  {
   "cell_type": "code",
   "execution_count": null,
   "metadata": {},
   "outputs": [],
   "source": []
  },
  {
   "cell_type": "markdown",
   "metadata": {},
   "source": [
    "次に、比較演算子を連結する方法で、以下にプログラムを作りなさい。"
   ]
  },
  {
   "cell_type": "code",
   "execution_count": null,
   "metadata": {},
   "outputs": [],
   "source": [
    "\n",
    "    "
   ]
  }
 ],
 "metadata": {
  "kernelspec": {
   "display_name": "base",
   "language": "python",
   "name": "python3"
  },
  "language_info": {
   "codemirror_mode": {
    "name": "ipython",
    "version": 3
   },
   "file_extension": ".py",
   "mimetype": "text/x-python",
   "name": "python",
   "nbconvert_exporter": "python",
   "pygments_lexer": "ipython3",
   "version": "3.10.6"
  }
 },
 "nbformat": 4,
 "nbformat_minor": 4
}
