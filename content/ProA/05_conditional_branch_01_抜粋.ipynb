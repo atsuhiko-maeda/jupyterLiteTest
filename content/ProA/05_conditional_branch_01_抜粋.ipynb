{
 "cells": [
  {
   "cell_type": "markdown",
   "metadata": {},
   "source": [
    "## 5.7 練習問題(Q5.7)\n",
    "\n",
    "### Q5.7-1\n"
   ]
  },
  {
   "cell_type": "code",
   "execution_count": 2,
   "metadata": {},
   "outputs": [
    {
     "name": "stdout",
     "output_type": "stream",
     "text": [
      "入力された整数は5以下です\n"
     ]
    }
   ],
   "source": [
    "x = int(input(\"整数を入力してください：\"))\n",
    "if x <= 5:\n",
    "    print(\"入力された整数は5以下です\")"
   ]
  },
  {
   "cell_type": "markdown",
   "metadata": {},
   "source": [
    "### Q5.7-2"
   ]
  },
  {
   "cell_type": "code",
   "execution_count": null,
   "metadata": {},
   "outputs": [],
   "source": [
    "s = input(\"文字列を入力してください\")\n",
    "if 'a' in s:\n",
    "    print(\"文字aは入力された文字列に含まれています\")"
   ]
  },
  {
   "cell_type": "markdown",
   "metadata": {},
   "source": [
    "### Q5.7-3"
   ]
  },
  {
   "cell_type": "code",
   "execution_count": null,
   "metadata": {},
   "outputs": [],
   "source": [
    "x = int(input(\"整数を入力してください：\"))\n",
    "if x <= 5:\n",
    "    print(\"入力された整数は5以下です\")\n",
    "else:\n",
    "    print(\"入力された整数は5より大きいです\")"
   ]
  },
  {
   "cell_type": "markdown",
   "metadata": {},
   "source": [
    "### Q5.7-4"
   ]
  },
  {
   "cell_type": "code",
   "execution_count": null,
   "metadata": {},
   "outputs": [],
   "source": [
    "x = int(input(\"整数を入力してください：\"))\n",
    "if x <= 10 and x%2 == 0:\n",
    "    print(\"入力された整数は10以下の偶数です\")"
   ]
  },
  {
   "cell_type": "markdown",
   "metadata": {},
   "source": [
    "### Q5.7-5"
   ]
  },
  {
   "cell_type": "code",
   "execution_count": null,
   "metadata": {},
   "outputs": [],
   "source": [
    "s = input(\"文字列を入力してください\")\n",
    "if 'a' in s or 'b' in s:\n",
    "    print(\"文字aまたはbは入力された文字列に含まれています\")"
   ]
  },
  {
   "cell_type": "markdown",
   "metadata": {},
   "source": [
    "### Q5.7-6"
   ]
  },
  {
   "cell_type": "code",
   "execution_count": null,
   "metadata": {},
   "outputs": [],
   "source": [
    "x = int(input(\"整数を入力してください：\"))\n",
    "if 1<=x and x<10:\n",
    "    print(\"入力された整数は1以上10未満です\")"
   ]
  },
  {
   "cell_type": "markdown",
   "metadata": {},
   "source": [
    "次に、比較演算子を連結する方法で、以下にプログラムを作りなさい。"
   ]
  },
  {
   "cell_type": "code",
   "execution_count": null,
   "metadata": {},
   "outputs": [],
   "source": [
    "\n",
    "x = int(input(\"整数を入力してください：\"))\n",
    "if 1<=x<10:\n",
    "    print(\"入力された整数は1以上10未満です\")"
   ]
  }
 ],
 "metadata": {
  "kernelspec": {
   "display_name": "Python 3",
   "language": "python",
   "name": "python3"
  },
  "language_info": {
   "codemirror_mode": {
    "name": "ipython",
    "version": 3
   },
   "file_extension": ".py",
   "mimetype": "text/x-python",
   "name": "python",
   "nbconvert_exporter": "python",
   "pygments_lexer": "ipython3",
   "version": "3.9.7"
  }
 },
 "nbformat": 4,
 "nbformat_minor": 4
}
