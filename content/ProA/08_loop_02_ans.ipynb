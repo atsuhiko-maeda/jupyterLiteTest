{
  "cells": [
    {
      "cell_type": "markdown",
      "metadata": {
        "id": "zGdQxHpek-He"
      },
      "source": [
        "### **練習問題**\n",
        "\n",
        "以下のコードセルを実行し結果を確認する。\n",
        "結果が確認できたら、問題文に従いプログラムを変更する。"
      ]
    },
    {
      "cell_type": "code",
      "execution_count": null,
      "metadata": {
        "id": "gQ1WV_aPlpVl"
      },
      "outputs": [],
      "source": [
        "#練習問題8.1-1\n",
        "#変数countが10未満の間、繰り返し処理を行う\n",
        "#プログラムを実行し、結果を確認する\n",
        "#条件式の数値を変更して、結果の変化を確認する\n",
        "#最低２パターンの異なる結果を回答欄に記述する\n",
        "\n",
        "count = 0\n",
        "while count < 10:#　　　10を別の数値に変更　値は自由\n",
        "    print(count)\n",
        "    count += 1  # countを1ずつ増やす"
      ]
    },
    {
      "cell_type": "markdown",
      "metadata": {},
      "source": [
        "練習問題8.1-1　回答欄<br> \n",
        "\n",
        "<br>パターン1:<br>\n",
        "\n",
        "\n",
        "\n",
        "<br>パターン2<br>\n",
        "\n"
      ]
    },
    {
      "cell_type": "code",
      "execution_count": null,
      "metadata": {
        "id": "6vleQDGdSldI"
      },
      "outputs": [],
      "source": [
        "#練習問題8.1-2\n",
        "#input関数を用いたキーボード入力の値をwhile文の条件に使用する例\n",
        "#プログラムを実行し、結果を確認する\n",
        "\n",
        "#実行時にキーボード入力を複数回行い終了までの出力結果を回答欄に記述する\n",
        "#繰り返し回数５回以上となるような最低２パターンの異なる出力結果を記録\n",
        "\n",
        "x = \"\" #条件に用いる文字列変数を用意\n",
        "while x != \"はい\":#xの値が\"はい\"でないとき真となる条件\n",
        "  x = str(input(\"はいと入力してください :\"))#キーボード入力された文字列がxに保存\n",
        "  print(x)\n",
        "print(\"終了\")\n"
      ]
    },
    {
      "cell_type": "markdown",
      "metadata": {},
      "source": [
        "練習問題8.1-2　回答欄<br> \n",
        "\n",
        "<br>パターン1:<br>\n",
        "\n",
        "\n",
        "\n",
        "<br>パターン2:<br>\n",
        "\n"
      ]
    },
    {
      "cell_type": "code",
      "execution_count": null,
      "metadata": {
        "id": "NgNVaCD4VeWT"
      },
      "outputs": [],
      "source": [
        "#練習問題8.1-3\n",
        "#キーボード入力の値を条件に使用する例\n",
        "#最初に入力された値が0になるまでカウントダウンして繰り返す\n",
        "\n",
        "#プログラムを実行し、\n",
        "#最初に入力する値を変えて結果の違いを見る\n",
        "#最低2パターンの異なる入力による出力結果を回答欄に記述する\n",
        "\n",
        "v = int(input(\"正の整数を入力してください:\"))\n",
        "while v >= 0:\n",
        "  print(v)\n",
        "  v -= 1\n",
        "print(\"終了\")"
      ]
    },
    {
      "cell_type": "markdown",
      "metadata": {},
      "source": [
        "練習問題8.1-3　回答欄<br> \n",
        "\n",
        "<br>パターン1:<br>\n",
        "\n",
        "\n",
        "\n",
        "<br>パターン2:<br>\n",
        "\n",
        "\n"
      ]
    },
    {
      "cell_type": "code",
      "execution_count": null,
      "metadata": {
        "id": "bx80NCUHkCwb"
      },
      "outputs": [],
      "source": [
        "#練習問題8.1-4\n",
        "\n",
        "#無限ループの状態のwhile文をbreakで終了する例\n",
        "#入力する値を最低２パターン試して出力結果を回答欄に記述する\n",
        "\n",
        "count = 0 #繰り返したカウントする変数\n",
        "x = 0\n",
        "while True: #条件をbool型のオブジェクトのTrue：真とすることで条件式が常に真の状態となり繰り返しが終了しない\n",
        "\n",
        "    x = int(input(\"負の値の入力で終了する：\"))#値の入力\n",
        "    print(\"入力した値は\",x,\"です\")\n",
        "    if x < 0:\n",
        "      break\n",
        "    print(count)\n",
        "    count += 1  # countを1ずつ増やす\n",
        "print(\"終了\")\n",
        "\n"
      ]
    },
    {
      "cell_type": "markdown",
      "metadata": {},
      "source": [
        "練習問題8.1-4　回答欄：<br>\n",
        "\n",
        "<br>パターン1<br>\n",
        "\n",
        "\n",
        "\n",
        "<br>パターン2<br>\n"
      ]
    },
    {
      "cell_type": "code",
      "execution_count": null,
      "metadata": {},
      "outputs": [],
      "source": [
        "#練習問題8.1-5\n",
        "\n",
        "#continueを使用して繰り返し処理の途中で次の繰り返しに進む例\n",
        "#処理3の後に現在の繰り返し回数を判定して2の倍数のとき、continueにより処理４と処理5がスキップされる\n",
        "#rangeで生成した整数列の要素が残っている間は繰り返しは継続する\n",
        "#繰り返し回数とcontinueが実行されるif文の条件を変更して結果の違いを確認する\n",
        "\n",
        "for i in range(10): #10回の繰り返しを行うfor文\n",
        "  print(i+1,\"回目の繰り返し\")\n",
        "  print(\"処理1\")\n",
        "  print(\"処理2\")\n",
        "  print(\"処理3\")\n",
        "  if (i+1) % 2 == 0: #繰り返し回数が2の倍数のとき\n",
        "    continue         #ここで次の繰り返しに進む\n",
        "  print(\"処理4\")\n",
        "  print(\"処理5\")"
      ]
    },
    {
      "cell_type": "markdown",
      "metadata": {
        "id": "CF8qrXjrnk-5"
      },
      "source": [
        "# 演習問題(Q8.1)\n",
        "\n",
        "### Q8.1-1\n",
        "練習問題8.1-4のコードをもとにして、繰り返しの開始時とcountが100の倍数になった時にだけキーボード入力を求めるように変更し、負の値の入力で無限ループを終了する。\n",
        "\n",
        "回答欄以外のプログラムは変更しないこと"
      ]
    },
    {
      "cell_type": "code",
      "execution_count": null,
      "metadata": {
        "id": "UqhQYB32oZM7"
      },
      "outputs": [],
      "source": [
        "count = 0 #繰り返した回数をカウントする変数\n",
        "x = 0\n",
        "while True: #条件をbool型のオブジェクトのTrue：真とすることで条件式が常に真の状態となり繰り返しが終了しない\n",
        "  #回答欄　ここから\n",
        "  if count == 0 or count%100 ==0:\n",
        "    x = int(input(\"負の値の入力で終了する：\"))#値の入力\n",
        "  print(\"入力した値は\",x,\"です\")\n",
        "  if x < 0:\n",
        "    break\n",
        "\n",
        "  print(count)\n",
        "  count += 1  # countを1ずつ増やす\n",
        "  #ここまで\n",
        "print(\"終了\")"
      ]
    },
    {
      "cell_type": "markdown",
      "metadata": {
        "id": "tYviiVpdpzEl"
      },
      "source": [
        "### Q8.1-2\n",
        "\n",
        "for文による繰り返しを使用して最初にキーボード入力した値の長さまでの「フィボナッチ数列」を表示するプログラムを作成してください。「フィボナッチ数列」は、先頭を0、２番目を1として３番目以降の値は全て自分の２つ前と1つ前の値同士を足した数となる数列です。\n",
        "\n",
        "長さ10のフィボナッチ数列の例：\n",
        "0 1 1 2 3 5 8 13 21 34\n",
        "\n",
        "長さ20のフィボナッチ数列の例：\n",
        "0\n",
        "1\n",
        "1\n",
        "2\n",
        "3\n",
        "5\n",
        "8\n",
        "13\n",
        "21\n",
        "34\n",
        "55\n",
        "89\n",
        "144\n",
        "233\n",
        "377\n",
        "610\n",
        "987\n",
        "1597\n",
        "2584\n",
        "4181"
      ]
    },
    {
      "cell_type": "code",
      "execution_count": null,
      "metadata": {},
      "outputs": [],
      "source": [
        "N = int(input(\"正の整数を入力してください\"))#数列の長さを保存する変数N\n",
        "\n",
        "#ヒント\n",
        "f2=0   #2つ前の値を保存する変数\n",
        "f1=1   #1つ前の値を保存する変数\n",
        "f=0    #f_2とf_1の合計値を保存する変数の初期化\n",
        "#(以上の変数は使用してもしなくともよい)\n",
        "\n",
        "#回答欄：ここから\n",
        "for i in range(N):\n",
        "    if i > 1:\n",
        "        f=f2+f1\n",
        "        print(f)\n",
        "        f2=f1\n",
        "        f1=f\n",
        "    else:\n",
        "        print(i)\n",
        "#ここまで\n"
      ]
    },
    {
      "cell_type": "markdown",
      "metadata": {
        "id": "_SR8kzb1tsyz"
      },
      "source": [
        "### **練習問題**\n",
        "\n",
        "以下のコードセルを実行し、結果を確認する。\n",
        "コメントアウトの記述の指示に従ってプログラムを変更し、その変化を確認する。"
      ]
    },
    {
      "cell_type": "code",
      "execution_count": null,
      "metadata": {
        "id": "po0HRzgifP1U"
      },
      "outputs": [],
      "source": [
        "#練習問題8.2-1\n",
        "#繰り返しの実行回数の確認\n",
        "\n",
        "#実行結果を確認する\n",
        "#さらにrange関数のパラメータを変更し、実行結果のs1,s2,s3の変化を確認することでfor文の入れ子構造の繰り返し処理への影響を確かめる\n",
        "\n",
        "\n",
        "#処理の実行された回数を記録する変数\n",
        "s1 = 0\n",
        "s2 = 0\n",
        "s3 = 0\n",
        "\n",
        "#入れ子構造のfor文の異なるインデントの階層に　実行されるとs1,s2,s3の変数の値が1増える処理を配置\n",
        "#どの階層が何回実行されるかを確認する\n",
        "#for文ごとに変数名が異なることに注意　それぞれの繰り返しが実行されるごとに異なるタイミングで値が変化する\n",
        "\n",
        "for i in range(2):           #1つ目のfor文　入れ子構造の外側　変数i に要素の値を代入\n",
        "  for j in range(3):         #2つ目のfor文　入れ子構造の内側　変数j に要素の値を代入\n",
        "    s1 += 1\n",
        "  s2 += 1\n",
        "s3 += 1\n",
        "\n",
        "print(\"s1 :\",s1)\n",
        "print(\"s2 :\",s2)\n",
        "print(\"s3 :\",s3)\n",
        "\n"
      ]
    },
    {
      "cell_type": "code",
      "execution_count": null,
      "metadata": {
        "id": "ds-4qjsvmN2h"
      },
      "outputs": [],
      "source": [
        "#練習問題8.2-2\n",
        "#繰り返し処理の変数の値の変化を確認\n",
        "\n",
        "#実行結果を確認し\n",
        "#さらにrange関数のパラメータを変更し、実行結果の変化を確認することでfor文の入れ子構造の繰り返し処理への影響を確かめる\n",
        "\n",
        "#例(1)と同じ構造の入れ子構造のfor文\n",
        "#繰り返し処理の変数の値の変化を確認\n",
        "#繰り返される度にiとjの値は変化する\n",
        "\n",
        "count = 0\n",
        "for i in range(2):\n",
        "  for j in range(3):\n",
        "    print(count,\"  ( i , j ) = (\",i,\",\",j,\")\")\n",
        "    count += 1"
      ]
    },
    {
      "cell_type": "code",
      "execution_count": null,
      "metadata": {
        "id": "PMP35bIqtKrk"
      },
      "outputs": [],
      "source": [
        "#練習問題8.2-3\n",
        "#for文の入れ子構造と文字出力を使った2次元の文字の並びの表現\n",
        "\n",
        "#実行結果を確認し、さらにrange関数の引数の値、if文の条件式、表示文字などを自由に変更して出力結果への影響を確認する\n",
        "#実行結果で興味深いパターンが見つかった場合コードセルをコピーして複製保存する、さらに複数パターンを試す\n",
        "\n",
        "for i in range(5):\n",
        "  for j in range(5):\n",
        "    if (i+j) % 2 == 0:  #iとjの合計が2の倍数の時\n",
        "      print(\"〇\",end=\"\")#〇を表示　　　　printのendオプションに値を渡すことで改行をさせない\n",
        "    else:\n",
        "      print(\"×\",end=\"\")#そうでないとき　×を表示\n",
        "  print()#内側のfor文が終了する度に　1度だけ改行するためのprint"
      ]
    },
    {
      "cell_type": "markdown",
      "metadata": {
        "id": "k2XfFLSCwvnj"
      },
      "source": [
        "# 演習問題(Q8.2)\n",
        "\n",
        "### Q8.2-1\n",
        "\n",
        "コードセルに入力されたプログラムを変更して、\n",
        "for文の入れ子構造を利用して以下のような掛け算の9*9の計算の一覧を表示するプログラムを作成しましょう。\n",
        "\n",
        "空白部分・インデント・文字列表示を適切に設定する\n",
        "\n",
        "```python\n",
        "#実行例:\n",
        "1 x 1 = 1 ,   1 x 2 = 2 ,   1 x 3 = 3 ,   1 x 4 = 4 ,   1 x 5 = 5 ,   1 x 6 = 6 ,   1 x 7 = 7 ,   1 x 8 = 8 ,   1 x 9 = 9 ,   \n",
        "2 x 1 = 2 ,   2 x 2 = 4 ,   2 x 3 = 6 ,   2 x 4 = 8 ,   2 x 5 = 10 ,   2 x 6 = 12 ,   2 x 7 = 14 ,   2 x 8 = 16 ,   2 x 9 = 18 ,   \n",
        "3 x 1 = 3 ,   3 x 2 = 6 ,   3 x 3 = 9 ,   3 x 4 = 12 ,   3 x 5 = 15 ,   3 x 6 = 18 ,   3 x 7 = 21 ,   3 x 8 = 24 ,   3 x 9 = 27 ,   \n",
        "4 x 1 = 4 ,   4 x 2 = 8 ,   4 x 3 = 12 ,   4 x 4 = 16 ,   4 x 5 = 20 ,   4 x 6 = 24 ,   4 x 7 = 28 ,   4 x 8 = 32 ,   4 x 9 = 36 ,   \n",
        "5 x 1 = 5 ,   5 x 2 = 10 ,   5 x 3 = 15 ,   5 x 4 = 20 ,   5 x 5 = 25 ,   5 x 6 = 30 ,   5 x 7 = 35 ,   5 x 8 = 40 ,   5 x 9 = 45 ,   \n",
        "6 x 1 = 6 ,   6 x 2 = 12 ,   6 x 3 = 18 ,   6 x 4 = 24 ,   6 x 5 = 30 ,   6 x 6 = 36 ,   6 x 7 = 42 ,   6 x 8 = 48 ,   6 x 9 = 54 ,   \n",
        "7 x 1 = 7 ,   7 x 2 = 14 ,   7 x 3 = 21 ,   7 x 4 = 28 ,   7 x 5 = 35 ,   7 x 6 = 42 ,   7 x 7 = 49 ,   7 x 8 = 56 ,   7 x 9 = 63 ,   \n",
        "8 x 1 = 8 ,   8 x 2 = 16 ,   8 x 3 = 24 ,   8 x 4 = 32 ,   8 x 5 = 40 ,   8 x 6 = 48 ,   8 x 7 = 56 ,   8 x 8 = 64 ,   8 x 9 = 72 ,   \n",
        "9 x 1 = 9 ,   9 x 2 = 18 ,   9 x 3 = 27 ,   9 x 4 = 36 ,   9 x 5 = 45 ,   9 x 6 = 54 ,   9 x 7 = 63 ,   9 x 8 = 72 ,   9 x 9 = 81 ,   \n",
        "\n",
        "```"
      ]
    },
    {
      "cell_type": "code",
      "execution_count": null,
      "metadata": {
        "id": "Qfw735VcxLAV"
      },
      "outputs": [],
      "source": [
        "#回答欄ここから\n",
        "\n",
        "#ヒント　（以下の記述はコメントアウトを外して使用してもしなくともよい）\n",
        "#for i in range(      ):\n",
        "#for j in range(     ):\n",
        "#print(                  , end=\"\")\n",
        "#print()//改行のため\n",
        "\n",
        "for i in range(1,10):\n",
        "  for j in range(1, 10):\n",
        "    print(i,\"x\",j,\"=\", i*j, \",   \", end=\"\")\n",
        "  print()#<-----ここのインデントの位置が重要！！！\n",
        "#ここまで"
      ]
    },
    {
      "cell_type": "markdown",
      "metadata": {
        "id": "WTl-6PI01kmN"
      },
      "source": [
        "### Q8.2-2\n",
        "\n",
        "0から最初にinput関数を使ってキーボード入力した値 (N-1)までの変化量1の整数列に含まれる**素数の値をすべて表示**して、最終的にその個数を表示するプログラムを作成してください。\n",
        "\n",
        "素数とは自分自身か1以外で割り切れない値です。\n",
        "**0と1は素数ではありません。**\n",
        "\n",
        "```python\n",
        "#実行例\n",
        "3以上の正の整数を入力してください100\n",
        "2  は素数です\n",
        "3  は素数です\n",
        "5  は素数です\n",
        "7  は素数です\n",
        "11  は素数です\n",
        "13  は素数です\n",
        "17  は素数です\n",
        "19  は素数です\n",
        "23  は素数です\n",
        "29  は素数です\n",
        "31  は素数です\n",
        "37  は素数です\n",
        "41  は素数です\n",
        "43  は素数です\n",
        "47  は素数です\n",
        "53  は素数です\n",
        "59  は素数です\n",
        "61  は素数です\n",
        "67  は素数です\n",
        "71  は素数です\n",
        "73  は素数です\n",
        "79  は素数です\n",
        "83  は素数です\n",
        "89  は素数です\n",
        "97  は素数です\n",
        "素数は 25 個ありました\n",
        "\n",
        "```"
      ]
    },
    {
      "cell_type": "code",
      "execution_count": null,
      "metadata": {
        "id": "IMNeRngM2vqP"
      },
      "outputs": [],
      "source": [
        "N=int(input(\"3以上の正の整数を入力してください\"))# キーボード入力でNの値を決定\n",
        "count = 0 #素数の個数カウント用の変数\n",
        "\n",
        "#ヒント 以下の記述はコメントアウトを外して使用しても使用しなくともよい\n",
        "#print(i,\" は素数です\")\n",
        "#print(\"素数は\",count,\"個ありました\")\n",
        "\n",
        "#回答欄　ここから\n",
        "\n",
        "for i in range(2,N):\n",
        "  is_sosu = True\n",
        "  for j in range(2,i):\n",
        "    if i % j == 0:\n",
        "      is_sosu = False\n",
        "  if is_sosu:\n",
        "    print(i,\" は素数です\")\n",
        "    count += 1\n",
        "print(\"素数は\",count,\"個ありました\")\n",
        "\n",
        "#ここまで"
      ]
    },
    {
      "cell_type": "markdown",
      "metadata": {
        "id": "5F8SHJD6_0Zc"
      },
      "source": [
        "第8回の内容は以上です。\n"
      ]
    }
  ],
  "metadata": {
    "colab": {
      "provenance": []
    },
    "kernelspec": {
      "display_name": "base",
      "language": "python",
      "name": "python3"
    },
    "language_info": {
      "codemirror_mode": {
        "name": "ipython",
        "version": 3
      },
      "file_extension": ".py",
      "mimetype": "text/x-python",
      "name": "python",
      "nbconvert_exporter": "python",
      "pygments_lexer": "ipython3",
      "version": "3.10.6"
    }
  },
  "nbformat": 4,
  "nbformat_minor": 0
}
