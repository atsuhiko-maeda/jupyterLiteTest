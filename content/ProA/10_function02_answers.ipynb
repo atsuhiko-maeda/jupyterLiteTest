{
  "cells": [
    {
      "cell_type": "markdown",
      "metadata": {},
      "source": [
        "### Q10.1-1"
      ]
    },
    {
      "cell_type": "code",
      "execution_count": 3,
      "metadata": {},
      "outputs": [
        {
          "name": "stdout",
          "output_type": "stream",
          "text": [
            "{'名前': '太郎', 'レベル': 11, '体力': 143, '攻撃力': 29, '防御力': 70, '所持金': 2000}\n"
          ]
        }
      ],
      "source": [
        "def buy(p, price):\n",
        "    p['所持金']-=price\n",
        "    \n",
        "buy(player1,1000)\n",
        "print(player1)"
      ]
    },
    {
      "cell_type": "markdown",
      "metadata": {},
      "source": [
        "### Q10.1-2"
      ]
    },
    {
      "cell_type": "code",
      "execution_count": 4,
      "metadata": {},
      "outputs": [
        {
          "name": "stdout",
          "output_type": "stream",
          "text": [
            "[2, 4, 6, 8, 10]\n"
          ]
        }
      ],
      "source": [
        "def double_elements_in_place(num_list):\n",
        "    for i in range(len(num_list)):\n",
        "        num_list[i]*=2\n",
        "\n",
        "numbers =[1,2,3,4,5]\n",
        "double_elements_in_place(numbers)\n",
        "print(numbers)        "
      ]
    },
    {
      "cell_type": "markdown",
      "metadata": {},
      "source": [
        "### Q10.1-3"
      ]
    },
    {
      "cell_type": "code",
      "execution_count": 14,
      "metadata": {},
      "outputs": [
        {
          "name": "stdout",
          "output_type": "stream",
          "text": [
            "[1, 2, 3, 4, 5]\n",
            "[2, 4, 6, 8, 10]\n"
          ]
        }
      ],
      "source": [
        "def double_elements(num_list):\n",
        "    num_list2 = num_list[:]\n",
        "    # num_list2=num_list.copy() #上記はこの書き方でもOK\n",
        "    for i in range(len(num_list2)):\n",
        "        num_list2[i]*=2\n",
        "    \n",
        "    return num_list2\n",
        "\n",
        "numbers =[1,2,3,4,5]\n",
        "numbers2 = double_elements(numbers)\n",
        "print(numbers)   \n",
        "print(numbers2)   "
      ]
    },
    {
      "cell_type": "markdown",
      "metadata": {},
      "source": [
        "---"
      ]
    },
    {
      "cell_type": "markdown",
      "metadata": {},
      "source": [
        "### Q10.2-1"
      ]
    },
    {
      "cell_type": "code",
      "execution_count": 17,
      "metadata": {},
      "outputs": [
        {
          "name": "stdout",
          "output_type": "stream",
          "text": [
            "funct1内 1\n",
            "func2内 3\n",
            "関数の外側 3\n"
          ]
        }
      ],
      "source": [
        "counter=1\n",
        "\n",
        "def func1():\n",
        "    print(\"funct1内\",counter)\n",
        "\n",
        "def func2(): \n",
        "    global counter    \n",
        "    counter+=2\n",
        "    print(\"func2内\",counter)\n",
        "    \n",
        "func1()\n",
        "func2()\n",
        "print(\"関数の外側\", counter)"
      ]
    },
    {
      "cell_type": "markdown",
      "metadata": {},
      "source": [
        "---"
      ]
    },
    {
      "cell_type": "markdown",
      "metadata": {},
      "source": [
        "## 10.3 関数を使った総合演習"
      ]
    },
    {
      "cell_type": "markdown",
      "metadata": {},
      "source": [
        "### Q10.3-1"
      ]
    },
    {
      "cell_type": "code",
      "execution_count": 1,
      "metadata": {},
      "outputs": [
        {
          "name": "stdout",
          "output_type": "stream",
          "text": [
            "文字数(スペースを含む)=401, 単語数=57, 文の数=2\n"
          ]
        }
      ],
      "source": [
        "texts =\"Kanagawa Institute of Technology is dedicated to gathering aspiring students and \"\\\n",
        "        \"educating them to become engineers with an abundance of knowledge and open perspectives. \"\\\n",
        "        \"In order for the realization of a scientifically technological nation, \"\\\n",
        "        \"KAIT also endeavors to build partnerships with local entrepreneurs, \"\\\n",
        "        \"institutes and individuals through the pursuit of research and education at a high standard.\"\n",
        "\n",
        "def get_char_count(texts):\n",
        "    return len(texts)\n",
        "\n",
        "def get_word_count(texts):\n",
        "    words = texts.split(\" \")\n",
        "    \n",
        "    return len(words)\n",
        "\n",
        "def get_sentence_count(texts):\n",
        "    sentences = texts.split(\".\")\n",
        "    sentences2=[]\n",
        "    for s in sentences:\n",
        "        if s!=\"\":\n",
        "            sentences2.append(s)\n",
        "                \n",
        "    return len(sentences2)\n",
        "\n",
        "def text_analysis(texts):\n",
        "    return get_char_count(texts), get_word_count(texts), get_sentence_count(texts)\n",
        "\n",
        "char_count, word_count, sentence_count = text_analysis(texts)\n",
        "\n",
        "print(f\"文字数(スペースを含む)={char_count}, 単語数={word_count}, 文の数={sentence_count}\")"
      ]
    },
    {
      "cell_type": "markdown",
      "metadata": {},
      "source": [
        "<hr>"
      ]
    },
    {
      "cell_type": "markdown",
      "metadata": {},
      "source": [
        "### Q10.3-2"
      ]
    },
    {
      "cell_type": "code",
      "execution_count": 2,
      "metadata": {},
      "outputs": [
        {
          "name": "stdout",
          "output_type": "stream",
          "text": [
            "S:5人, A:4人, B:10人, C:5人, E:7人\n",
            "合格者数:24人\n",
            "合格者の割合:77.42%\n",
            "平均点:70.97点\n",
            "最高点:98点\n"
          ]
        }
      ],
      "source": [
        "score_list=[90,53,64,78,80,78,56,96,45,66,71,63,56,74,62,88,73,64,76,56,95,32,10,78,89,90,98,77,78,76,88]\n",
        "\n",
        "def get_average(score_list):\n",
        "    return sum(score_list)/len(score_list)\n",
        "\n",
        "def score2eval(score_list):\n",
        "    S_count=0\n",
        "    A_count=0\n",
        "    B_count=0\n",
        "    C_count=0\n",
        "    E_count=0\n",
        "    \n",
        "    for s in score_list:\n",
        "        if s>=90:\n",
        "            S_count+=1\n",
        "        elif s>=80:\n",
        "            A_count+=1\n",
        "        elif s>=70:\n",
        "            B_count+=1\n",
        "        elif s>=60:\n",
        "            C_count+=1\n",
        "        else:\n",
        "            E_count+=1\n",
        "            \n",
        "    return S_count, A_count, B_count, C_count, E_count\n",
        "\n",
        "def score_analysis(score_list):    \n",
        "    S_count, A_count, B_count, C_count, E_count = score2eval(score_list)\n",
        "    pass_count = len(score_list)-E_count\n",
        "    pass_ratio = pass_count/len(score_list)*100\n",
        "    \n",
        "    average = get_average(score_list)\n",
        "    max_score = max(score_list)\n",
        "    \n",
        "    print(f\"S:{S_count}人, A:{A_count}人, B:{B_count}人, C:{C_count}人, E:{E_count}人\")\n",
        "    print(f\"合格者数:{pass_count}人\")\n",
        "    print(f\"合格者の割合:{pass_ratio:.2f}%\")\n",
        "    print(f\"平均点:{average:.2f}点\")\n",
        "    print(f\"最高点:{max_score}点\")\n",
        "    \n",
        "score_analysis(score_list)\n"
      ]
    }
  ],
  "metadata": {
    "kernelspec": {
      "display_name": "base",
      "language": "python",
      "name": "python3"
    },
    "language_info": {
      "codemirror_mode": {
        "name": "ipython",
        "version": 3
      },
      "file_extension": ".py",
      "mimetype": "text/x-python",
      "name": "python",
      "nbconvert_exporter": "python",
      "pygments_lexer": "ipython3",
      "version": "3.10.6"
    }
  },
  "nbformat": 4,
  "nbformat_minor": 4
}
