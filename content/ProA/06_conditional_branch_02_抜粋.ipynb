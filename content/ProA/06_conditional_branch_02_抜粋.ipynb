{
 "cells": [
  {
   "cell_type": "markdown",
   "metadata": {},
   "source": [
    "---"
   ]
  },
  {
   "cell_type": "markdown",
   "metadata": {},
   "source": [
    "## 6.3 練習問題(Q6.3)\n",
    "- すべて「必須課題」です。\n",
    "\n",
    "### Q6.3-1"
   ]
  },
  {
   "cell_type": "code",
   "execution_count": 1,
   "metadata": {},
   "outputs": [
    {
     "name": "stdout",
     "output_type": "stream",
     "text": [
      "あなたは成人です\n"
     ]
    }
   ],
   "source": [
    "x = int(input(\"年齢を整数で入力してください：\"))\n",
    "if x < 18:\n",
    "    print(\"あなたは未成年です\")\n",
    "elif x < 65:\n",
    "    print(\"あなたは成人です\")\n",
    "else:\n",
    "    print(\"あなたは高齢者です\")\n"
   ]
  },
  {
   "cell_type": "markdown",
   "metadata": {},
   "source": [
    "### Q6.3-2\n"
   ]
  },
  {
   "cell_type": "code",
   "execution_count": 4,
   "metadata": {},
   "outputs": [
    {
     "name": "stdout",
     "output_type": "stream",
     "text": [
      "文字bは入力された文字列に含まれています\n"
     ]
    }
   ],
   "source": [
    "s = input(\"文字列を入力してください\")\n",
    "if \"a\" in s:\n",
    "    print(\"文字aは入力された文字列に含まれています\")\n",
    "elif \"b\" in s:\n",
    "    print(\"文字bは入力された文字列に含まれています\")\n",
    "elif \"c\" in s:\n",
    "    print(\"文字cは入力された文字列に含まれています\")\n",
    "else:\n",
    "    print(\"文字a, b, cのいずれも入力された文字列には含まれていません\")\n"
   ]
  },
  {
   "cell_type": "markdown",
   "metadata": {},
   "source": [
    "### Q6.3-3"
   ]
  },
  {
   "cell_type": "code",
   "execution_count": 8,
   "metadata": {},
   "outputs": [
    {
     "name": "stdout",
     "output_type": "stream",
     "text": [
      "23\n"
     ]
    }
   ],
   "source": [
    "x = int(input(\"整数を入力してください：\"))\n",
    "if (x % 3 == 0) and (x % 5 == 0):\n",
    "    print(\"FizzBuzz\")\n",
    "elif x % 3 == 0:\n",
    "    print(\"Fizz\")\n",
    "elif x % 5 == 0:\n",
    "    print(\"Buzz\")\n",
    "else:\n",
    "    print(x)\n"
   ]
  },
  {
   "cell_type": "markdown",
   "metadata": {},
   "source": [
    "次に、以下の各行をアンコメントして並び替え、適切にインデントを入れて、ネストした`if`文を使うプログラムを作りなさい。"
   ]
  },
  {
   "cell_type": "code",
   "execution_count": 2,
   "metadata": {},
   "outputs": [
    {
     "name": "stdout",
     "output_type": "stream",
     "text": [
      "FizzBuzz\n"
     ]
    }
   ],
   "source": [
    "x = int(input(\"整数を入力してください：\"))\n",
    "\n",
    "if x % 3 == 0:\n",
    "    if x % 5 == 0:\n",
    "        print(\"FizzBuzz\")\n",
    "    else:        \n",
    "        print(\"Fizz\")\n",
    "else:    \n",
    "    if x % 5 == 0:\n",
    "        print(\"Buzz\")\n",
    "    else:\n",
    "        print(x)\n"
   ]
  },
  {
   "cell_type": "markdown",
   "metadata": {},
   "source": [
    "## 6.4 総合演習問題(Q6.4)\n",
    "\n",
    "### Q6.4-1"
   ]
  },
  {
   "cell_type": "code",
   "execution_count": 28,
   "metadata": {},
   "outputs": [
    {
     "name": "stdout",
     "output_type": "stream",
     "text": [
      "令和6年です\n"
     ]
    }
   ],
   "source": [
    "year = int(input(\"西暦を入力してください：\"))\n",
    "# if year>2019:\n",
    "#     print(f\"令和{year-2018}年です\")\n",
    "# elif year==2019:\n",
    "#     print(\"令和元年です\")\n",
    "# elif year>1989:\n",
    "#         print(f\"平成{year-1988}年です\")\n",
    "# elif year==1989:\n",
    "#     print(\"平成元年です\")\n",
    "# else:\n",
    "#     print(\"それ以外の元号です\")\n",
    "    \n",
    "\n",
    "if year<1989:\n",
    "    print(\"それ以外の元号です\")\n",
    "elif year==1989:\n",
    "    print(f\"平成元年です\")\n",
    "elif year<2019:\n",
    "    print(f\"平成{year-1988}年です\")\n",
    "elif year==2019:\n",
    "    print(\"令和元年です\")\n",
    "elif year>2019:\n",
    "    print(f\"令和{year-2018}年です\")\n",
    "        "
   ]
  },
  {
   "cell_type": "markdown",
   "metadata": {},
   "source": [
    "### Q6.4-2"
   ]
  },
  {
   "cell_type": "code",
   "execution_count": 24,
   "metadata": {},
   "outputs": [
    {
     "name": "stdout",
     "output_type": "stream",
     "text": [
      "平年です\n"
     ]
    }
   ],
   "source": [
    "year = int(input(\"西暦を入力してください：\"))\n",
    "if year%4==0:\n",
    "    if year%100==0 and not year%400==0:\n",
    "        print(\"平年です\")\n",
    "    else:\n",
    "        print(\"うるう年です\")\n",
    "else:\n",
    "    print(\"平年です\")    "
   ]
  },
  {
   "cell_type": "markdown",
   "metadata": {},
   "source": [
    "### Q6.4-3\n"
   ]
  },
  {
   "cell_type": "code",
   "execution_count": 31,
   "metadata": {},
   "outputs": [
    {
     "name": "stdout",
     "output_type": "stream",
     "text": [
      "小吉\n"
     ]
    }
   ],
   "source": [
    "unsei = [\"大吉\", \"中吉\", \"小吉\"]\n",
    "date = int(input(\"明日の日付を8桁の数字で入力してください：\"))\n",
    "amari = date%3\n",
    "if amari==0:\n",
    "    print(unsei[0])\n",
    "elif amari==1:\n",
    "    print(unsei[1])\n",
    "elif amari==2:\n",
    "    print(unsei[2])\n"
   ]
  },
  {
   "cell_type": "markdown",
   "metadata": {},
   "source": [
    "### Q6.4-4"
   ]
  },
  {
   "cell_type": "code",
   "execution_count": null,
   "metadata": {},
   "outputs": [
    {
     "name": "stdout",
     "output_type": "stream",
     "text": [
      "小数第二位で四捨五入した結果は12.3です\n"
     ]
    }
   ],
   "source": []
  },
  {
   "cell_type": "markdown",
   "metadata": {},
   "source": [
    "### Q6.4-5"
   ]
  },
  {
   "cell_type": "code",
   "execution_count": null,
   "metadata": {},
   "outputs": [
    {
     "name": "stdout",
     "output_type": "stream",
     "text": [
      "D大学の最寄り駅は町田です\n",
      "{'A大学': '本厚木', 'B大学': '海老名', 'C大学': '相模大野', 'D大学': '町田'}\n"
     ]
    }
   ],
   "source": []
  }
 ],
 "metadata": {
  "kernelspec": {
   "display_name": "Python 3",
   "language": "python",
   "name": "python3"
  },
  "language_info": {
   "codemirror_mode": {
    "name": "ipython",
    "version": 3
   },
   "file_extension": ".py",
   "mimetype": "text/x-python",
   "name": "python",
   "nbconvert_exporter": "python",
   "pygments_lexer": "ipython3",
   "version": "3.10.6"
  }
 },
 "nbformat": 4,
 "nbformat_minor": 4
}
