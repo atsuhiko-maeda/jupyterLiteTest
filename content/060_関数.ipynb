{
 "cells": [
  {
   "cell_type": "markdown",
   "metadata": {},
   "source": [
    "# Pythonの関数\n",
    "\n",
    "Pythonの関数は、特定のタスクや処理を実行するための独立したブロックのコードです。関数を定義することにより、コードを再利用可能な形にまとめ、プログラムを効果的に構造化することができます。\n"
   ]
  },
  {
   "cell_type": "markdown",
   "metadata": {},
   "source": [
    "## 1. 関数の定義\n",
    "\n",
    "関数を定義するには、`def`キーワードを使用します。基本構文は次の通りです：\n",
    "\n",
    "```python\n",
    "def 関数名(引数1, 引数2, ...):\n",
    "    # 関数の本体\n",
    "```\n",
    "\n",
    "たとえば、次の関数は2つの引数を受け取り、それらを足し合わせて結果を返す関数です：\n",
    "\n",
    "```python\n",
    "def add_numbers(x, y):\n",
    "    result = x + y\n",
    "    return result\n",
    "```\n"
   ]
  },
  {
   "cell_type": "markdown",
   "metadata": {},
   "source": [
    "## 2. 引数と戻り値\n",
    "\n",
    "関数は引数を受け取り、処理を実行し、結果を返すことができます。引数は関数に渡す値であり、関数内で使用できます。戻り値は関数から返される値です。\n",
    "\n",
    "関数呼び出しの例は以下の通りです：\n",
    "\n",
    "```python\n",
    "result = add_numbers(5, 3)\n",
    "print(result)  # 8が出力される\n",
    "```\n"
   ]
  },
  {
   "cell_type": "markdown",
   "metadata": {},
   "source": [
    "## 3. デフォルト引数\n",
    "\n",
    "関数の引数にデフォルト値を指定することができます。デフォルト引数を持つ関数は、引数が指定されなかった場合にそのデフォルト値を使用します。\n",
    "\n",
    "```python\n",
    "def greet(name=\"ゲスト\"):\n",
    "    print(f\"こんにちは、{name}さん！\")\n",
    "\n",
    "greet()           # \"こんにちは、ゲストさん！\" と出力\n",
    "greet(\"Alice\")    # \"こんにちは、Aliceさん！\" と出力\n",
    "```\n"
   ]
  },
  {
   "cell_type": "markdown",
   "metadata": {},
   "source": [
    "## 4. 可変長引数\n",
    "\n",
    "関数に可変長の引数を受け取ることができます。これを行うには、`*args`（位置引数の可変長リスト）や`**kwargs`（キーワード引数の可変長リスト）といった特別な引数を使用します。\n",
    "\n",
    "```python\n",
    "def calculate_sum(*args):\n",
    "    total = 0\n",
    "    for num in args:\n",
    "        total += num\n",
    "    return total\n",
    "\n",
    "result = calculate_sum(1, 2, 3, 4, 5)\n",
    "print(result)  # 15が出力される\n",
    "```\n"
   ]
  },
  {
   "cell_type": "markdown",
   "metadata": {},
   "source": [
    "## 5. ラムダ関数\n",
    "\n",
    "ラムダ関数は、無名の小さな関数を簡潔に定義するために使用されます。ラムダ関数は`lambda`キーワードを使って定義され、通常は短い一行の式で表現されます。\n",
    "\n",
    "```python\n",
    "add = lambda x, y: x + y\n",
    "result = add(5, 3)\n",
    "print(result)  # 8が出力される\n",
    "```\n"
   ]
  },
  {
   "cell_type": "markdown",
   "metadata": {},
   "source": [
    "関数はプログラムをモジュール化し、理解しやすく、メンテナンス可能にするのに役立ちます。また、Pythonの多くの組み込み関数やサードパーティライブラリも関数として提供されており、これらを組み合わせて強力なプログラムを構築できます。関数はPythonプログラミングにおける基本的な要素の1つであり、効果的に使用することでコードの品質と再利用性を向上させることができます。"
   ]
  }
 ],
 "metadata": {},
 "nbformat": 4,
 "nbformat_minor": 4
}